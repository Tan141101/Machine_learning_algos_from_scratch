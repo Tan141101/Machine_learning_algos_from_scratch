{
 "cells": [
  {
   "cell_type": "markdown",
   "id": "c6113e30",
   "metadata": {},
   "source": [
    "# Naive bayes is an algorithm to find the probability of yk occuring for a variable feature x = {x1,x2,x3...xn} where yk is the each of the possible classes y = {y1,y2,y3...yk} for example if there are 3 companies having different features then finding what is the probability that the defect is from the first company where y is the 3 companies and its features are x. So we use naive bayes theorem to solve this which is P(yk|x) = P(X|yk)*P(yk)/P(x) where P(yk) is called a prior, P(yk|x) is called the posterior, P(x|yk) is called as likelihood and we can write P(X|yk) = P(x1|yk)*P(x2|yk)*...*P(xn|yk), and P(x) is called an evidence."
   ]
  },
  {
   "cell_type": "code",
   "execution_count": null,
   "id": "89752319",
   "metadata": {},
   "outputs": [],
   "source": [
    "# There is a problem if for a particular xi there is not particular case with some yk then its probability will be equal to 0.\n",
    "# Which will not be helpful to our model and hence we use the method known as laplace smoothing which is:\n",
    "# P(xi|Y=Yi) =( Number of cases where xi occurs with Y=Yi + alpha)/(N+alpha*K)\n",
    "# here alpha is the small smoothing constant, N is the total occurence for Y=Yi, K is the total number of Y classes."
   ]
  },
  {
   "cell_type": "code",
   "execution_count": 2,
   "id": "7e60bf27",
   "metadata": {},
   "outputs": [],
   "source": [
    "import numpy as np \n",
    "import pandas as pd \n",
    "from sklearn.naive_bayes import BernoulliNB"
   ]
  },
  {
   "cell_type": "code",
   "execution_count": 61,
   "id": "d9c673ca",
   "metadata": {},
   "outputs": [],
   "source": [
    "# Below is a small movie based train and test where x features are liking movies 1,2,3 and Y is if liked a target movie 4.\n",
    "X_train = np.array([[0,1,1],[0,0,1],[0,0,0],[1,1,0]])\n",
    "Y_train = ['Y','N','Y','Y'] # in this case Y is having 2 data points so it will be easier\n",
    "X_test = np.array([[1,1,0],[1,1,1],[0,0,0]])"
   ]
  },
  {
   "cell_type": "code",
   "execution_count": 7,
   "id": "4a43ec4a",
   "metadata": {},
   "outputs": [],
   "source": [
    "# We will calculate our prior and label each of them\n",
    "def get_labels_indices(labels):\n",
    "    from collections import defaultdict\n",
    "    label_indices = defaultdict(list)\n",
    "    for index,label in enumerate(labels):\n",
    "        label_indices[label].append(index)\n",
    "    return label_indices"
   ]
  },
  {
   "cell_type": "code",
   "execution_count": 14,
   "id": "e6e9e631",
   "metadata": {},
   "outputs": [
    {
     "data": {
      "text/plain": [
       "defaultdict(list, {'Y': [0, 2, 3], 'N': [1]})"
      ]
     },
     "execution_count": 14,
     "metadata": {},
     "output_type": "execute_result"
    }
   ],
   "source": [
    "# Let see the labels for our y data\n",
    "label_indices = get_labels_indices(Y_train)\n",
    "label_indices"
   ]
  },
  {
   "cell_type": "code",
   "execution_count": 10,
   "id": "e8345b35",
   "metadata": {},
   "outputs": [],
   "source": [
    "# Now lets calculate prior\n",
    "def get_prior(label_indices):\n",
    "    prior = {label: len(indices) for label, indices in\n",
    "                                    label_indices.items()}\n",
    "    total_count = sum(prior.values())\n",
    "    for label in prior:\n",
    "        prior[label] /= total_count\n",
    "    return prior\n",
    "    "
   ]
  },
  {
   "cell_type": "code",
   "execution_count": 11,
   "id": "392a9b55",
   "metadata": {},
   "outputs": [
    {
     "data": {
      "text/plain": [
       "{'Y': 0.75, 'N': 0.25}"
      ]
     },
     "execution_count": 11,
     "metadata": {},
     "output_type": "execute_result"
    }
   ],
   "source": [
    "get_prior(label_indices)"
   ]
  },
  {
   "cell_type": "code",
   "execution_count": 22,
   "id": "d4b73f35",
   "metadata": {},
   "outputs": [],
   "source": [
    "def get_likelihood(X_train,label_indices,smoothing=0):\n",
    "    likelihood = {}\n",
    "    for label,indices in label_indices.items():\n",
    "        likelihood[label] = X_train[indices,:].sum(axis=0)+smoothing\n",
    "        likelihood[label] = likelihood[label]/(len(indices)+ smoothing*len(label_indices)) # len(indices) will tell us the length of the string and other part will calculate alpha*label_indices\n",
    "    return likelihood\n"
   ]
  },
  {
   "cell_type": "code",
   "execution_count": 23,
   "id": "a4c975d3",
   "metadata": {},
   "outputs": [
    {
     "data": {
      "text/plain": [
       "{'Y': array([0.4, 0.6, 0.4]), 'N': array([0.33333333, 0.33333333, 0.66666667])}"
      ]
     },
     "execution_count": 23,
     "metadata": {},
     "output_type": "execute_result"
    }
   ],
   "source": [
    "get_likelihood(X_train,label_indices,smoothing=1)"
   ]
  },
  {
   "cell_type": "code",
   "execution_count": 66,
   "id": "11e92d66",
   "metadata": {},
   "outputs": [],
   "source": [
    ">>> def get_posterior(X, prior, likelihood):\n",
    "...     \"\"\"\n",
    "...     Compute posterior of testing samples, based on prior and \n",
    "...     likelihood\n",
    "...     @param X: testing samples\n",
    "...     @param prior: dictionary, with class label as key, \n",
    "...                   corresponding prior as the value\n",
    "...     @param likelihood: dictionary, with class label as key, \n",
    "...                        corresponding conditional probability\n",
    "...                            vector as value\n",
    "...     @return: dictionary, with class label as key, corresponding \n",
    "...              posterior as value\n",
    "...     \"\"\"\n",
    "...     posteriors = []\n",
    "...     for x in X:\n",
    "...         # posterior is proportional to prior * likelihood\n",
    "...         posterior = prior.copy()\n",
    "...         for label, likelihood_label in likelihood.items():\n",
    "...             for index, bool_value in enumerate(x):\n",
    "...           \n",
    "                    if bool_value:\n",
    "                        posterior[label] *= likelihood_label[index] \n",
    "                    else:\n",
    "                        posterior[label]*= (1 - likelihood_label[index])\n",
    "...         # normalize so that all sums up to 1\n",
    "...         sum_posterior = sum(posterior.values())\n",
    "...         for label in posterior:\n",
    "...             if posterior[label] == float('inf'):\n",
    "...                 posterior[label] = 1.0\n",
    "...             else:\n",
    "...                 posterior[label] /= sum_posterior\n",
    "...         posteriors.append(posterior.copy())\n",
    "...     return posteriors\n"
   ]
  },
  {
   "cell_type": "code",
   "execution_count": 67,
   "id": "744a2fe3",
   "metadata": {},
   "outputs": [],
   "source": [
    "prior = get_prior(label_indices)\n",
    "likelihood = get_likelihood(X_train,label_indices,smoothing=1)\n",
    "posterior = get_posterior(X_test,prior,likelihood)"
   ]
  },
  {
   "cell_type": "code",
   "execution_count": 68,
   "id": "80cbb60a",
   "metadata": {},
   "outputs": [
    {
     "data": {
      "text/plain": [
       "[{'Y': 0.9210360075805433, 'N': 0.07896399241945673},\n",
       " {'Y': 0.795417348608838, 'N': 0.204582651391162},\n",
       " {'Y': 0.7446373850868232, 'N': 0.2553626149131768}]"
      ]
     },
     "execution_count": 68,
     "metadata": {},
     "output_type": "execute_result"
    }
   ],
   "source": [
    "posterior"
   ]
  },
  {
   "cell_type": "code",
   "execution_count": 69,
   "id": "53c127dc",
   "metadata": {},
   "outputs": [
    {
     "data": {
      "text/plain": [
       "array([[0.07896399, 0.92103601],\n",
       "       [0.20458265, 0.79541735],\n",
       "       [0.25536261, 0.74463739]])"
      ]
     },
     "execution_count": 69,
     "metadata": {},
     "output_type": "execute_result"
    }
   ],
   "source": [
    "# Using scikit learn and comparing our model answer we get both of them are the same\n",
    "post = BernoulliNB(alpha = 1.0,fit_prior=True)\n",
    "post.fit(X_train,Y_train)\n",
    "post.predict_proba(X_test)"
   ]
  },
  {
   "cell_type": "code",
   "execution_count": null,
   "id": "3e1b3bb1",
   "metadata": {},
   "outputs": [],
   "source": []
  },
  {
   "cell_type": "code",
   "execution_count": null,
   "id": "06560985",
   "metadata": {},
   "outputs": [],
   "source": []
  }
 ],
 "metadata": {
  "kernelspec": {
   "display_name": "Python 3 (ipykernel)",
   "language": "python",
   "name": "python3"
  },
  "language_info": {
   "codemirror_mode": {
    "name": "ipython",
    "version": 3
   },
   "file_extension": ".py",
   "mimetype": "text/x-python",
   "name": "python",
   "nbconvert_exporter": "python",
   "pygments_lexer": "ipython3",
   "version": "3.9.12"
  }
 },
 "nbformat": 4,
 "nbformat_minor": 5
}
